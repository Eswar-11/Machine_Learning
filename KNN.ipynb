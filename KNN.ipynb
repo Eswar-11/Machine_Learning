{
  "nbformat": 4,
  "nbformat_minor": 0,
  "metadata": {
    "colab": {
      "name": "KNN.ipynb",
      "provenance": [],
      "collapsed_sections": [],
      "include_colab_link": true
    },
    "kernelspec": {
      "name": "python3",
      "display_name": "Python 3"
    },
    "language_info": {
      "name": "python"
    }
  },
  "cells": [
    {
      "cell_type": "markdown",
      "metadata": {
        "id": "view-in-github",
        "colab_type": "text"
      },
      "source": [
        "<a href=\"https://colab.research.google.com/github/Eswar-11/Machine_Learning/blob/main/KNN.ipynb\" target=\"_parent\"><img src=\"https://colab.research.google.com/assets/colab-badge.svg\" alt=\"Open In Colab\"/></a>"
      ]
    },
    {
      "cell_type": "markdown",
      "source": [
        "## **KNN Algorithm**"
      ],
      "metadata": {
        "id": "sDIpjuITMKmh"
      }
    },
    {
      "cell_type": "code",
      "source": [
        "# sample list\n",
        "samples = []"
      ],
      "metadata": {
        "id": "Lmc3wpANMMTL"
      },
      "execution_count": 1,
      "outputs": []
    },
    {
      "cell_type": "code",
      "source": [
        "with open('/data1.data', 'r') as f:\n",
        "    for line in f.readlines():\n",
        "        attributes = line.replace('\\n', '').split(',')\n",
        "        # converting items from the list of attributes (string to integer)\n",
        "        samples.append([int(attribute) for attribute in attributes])"
      ],
      "metadata": {
        "id": "JtoaqzgcMMVn"
      },
      "execution_count": 2,
      "outputs": []
    },
    {
      "cell_type": "code",
      "source": [
        "def dataset_info(samples, verbose=True):\n",
        "    # Displaying number of samples\n",
        "    if verbose:\n",
        "        print(\"Number of samples: {}\".format(len(samples)))\n",
        "    \n",
        "    # initializing the counting variables for each label\n",
        "    label_1, label_2 = 0, 0\n",
        "    for sample in samples:\n",
        "        if sample[-1] == 1:\n",
        "            label_1 += 1\n",
        "        else:\n",
        "            label_2 += 1\n",
        "    \n",
        "    # displaying the number of samples of each label\n",
        "    if verbose:\n",
        "        print('Number of Samples of Label 1: {}'.format(label_1))\n",
        "        print('Number of Samples of Label 2: {}'.format(label_2))\n",
        "    \n",
        "    # return a tuple with the number of samples and the number of samples of each label\n",
        "    return len(samples), label_1, label_2"
      ],
      "metadata": {
        "id": "qpySNGAeMMYJ"
      },
      "execution_count": 3,
      "outputs": []
    },
    {
      "cell_type": "code",
      "source": [
        "# unpacking return tuple of dataset_info function\n",
        "_, label_1, label_2 = dataset_info(samples, verbose=True)\n"
      ],
      "metadata": {
        "colab": {
          "base_uri": "https://localhost:8080/"
        },
        "id": "uPzknvs-MMap",
        "outputId": "8b3245f7-6ce0-4698-f342-56ebe22df978"
      },
      "execution_count": 4,
      "outputs": [
        {
          "output_type": "stream",
          "name": "stdout",
          "text": [
            "Number of samples: 306\n",
            "Number of Samples of Label 1: 225\n",
            "Number of Samples of Label 2: 81\n"
          ]
        }
      ]
    },
    {
      "cell_type": "code",
      "source": [
        "# proportion of the dataset to include in the train split (60%)\n",
        "p = 0.6"
      ],
      "metadata": {
        "id": "qrGayCG5MMdV"
      },
      "execution_count": 5,
      "outputs": []
    },
    {
      "cell_type": "code",
      "source": [
        "# Initializing the test and training samples list\n",
        "train, test = [], []\n",
        "\n",
        "# Calculating the maximum amount of training samples per label\n",
        "max_label_1, max_label_2 = int(p * label_1), int(p * label_2)\n",
        "\n",
        "# Total amount of training samples\n",
        "total_of_train_samples = max_label_1 + max_label_2\n",
        "\n",
        "# Initializing labels counters\n",
        "count_label_1, count_label_2 = 0, 0\n",
        "\n",
        "for sample in samples:\n",
        "    # If the sum of the counters is less than the total amount of training samples\n",
        "    if (count_label_1 + count_label_2) < (total_of_train_samples):\n",
        "        # Adding sample to training set\n",
        "        train.append(sample)\n",
        "        if (sample[-1] == 1) and (count_label_1 < max_label_1):\n",
        "            count_label_1 += 1\n",
        "        else:\n",
        "            count_label_2 += 1\n",
        "    else:\n",
        "        # Adding sample to list of test set\n",
        "        test.append(sample)"
      ],
      "metadata": {
        "id": "9IixUEpcMMf9"
      },
      "execution_count": 6,
      "outputs": []
    },
    {
      "cell_type": "code",
      "source": [
        "# Displaying information about test and training samples\n",
        "print('----------------------------------')\n",
        "print('Train Samples')\n",
        "dataset_info(train)\n",
        "print('----------------------------------')\n",
        "print('Test Samples')\n",
        "dataset_info(test)\n",
        "print('----------------------------------')"
      ],
      "metadata": {
        "colab": {
          "base_uri": "https://localhost:8080/"
        },
        "id": "8KNwQq3aMMiR",
        "outputId": "4aad10f8-631b-4580-87df-c227a0d81872"
      },
      "execution_count": 7,
      "outputs": [
        {
          "output_type": "stream",
          "name": "stdout",
          "text": [
            "----------------------------------\n",
            "Train Samples\n",
            "Number of samples: 183\n",
            "Number of Samples of Label 1: 132\n",
            "Number of Samples of Label 2: 51\n",
            "----------------------------------\n",
            "Test Samples\n",
            "Number of samples: 123\n",
            "Number of Samples of Label 1: 93\n",
            "Number of Samples of Label 2: 30\n",
            "----------------------------------\n"
          ]
        }
      ]
    },
    {
      "cell_type": "code",
      "source": [
        "import math\n",
        "\n",
        "def euclidian_distance(v1, v2):\n",
        "    # Getting vector 1 size and initializing summing variable \n",
        "    length, summation = len(v1), 0\n",
        "\n",
        "    # Adding the square of the difference of the values of the two vectors\n",
        "    for i in range(length - 1):\n",
        "        # Adding the square of the difference of the values of the two vectors\n",
        "        summation += math.pow(v1[i] - v2[i], 2)\n",
        "\n",
        "    # Returning the square root of the sum\n",
        "    return math.sqrt(summation)"
      ],
      "metadata": {
        "id": "B3ifxZ9TNgTm"
      },
      "execution_count": 8,
      "outputs": []
    },
    {
      "cell_type": "code",
      "source": [
        "# testing euclidian_distance function\n",
        "v1 = [1, 2, 3]\n",
        "v2 = [2, 1, 5]\n",
        "euclidian_distance(v1,v2)"
      ],
      "metadata": {
        "colab": {
          "base_uri": "https://localhost:8080/"
        },
        "id": "gaf-a5JMNgVi",
        "outputId": "a855fa4d-20c4-4a0e-9154-cb0874523bd4"
      },
      "execution_count": 9,
      "outputs": [
        {
          "output_type": "execute_result",
          "data": {
            "text/plain": [
              "1.4142135623730951"
            ]
          },
          "metadata": {},
          "execution_count": 9
        }
      ]
    },
    {
      "cell_type": "code",
      "source": [
        "# implementing knn\n",
        "def knn(train, new_sample, K):\n",
        "    # Initializing dict of distances and variable with size of training set\n",
        "    distances, train_length = {}, len(train)\n",
        "\n",
        "    # Calculating the Euclidean distance between the new\n",
        "    # sample and the values of the training sample\n",
        "    for i in range(train_length):\n",
        "        d = euclidian_distance(train[i], new_sample)\n",
        "        distances[i] = d\n",
        "    \n",
        "    # Selecting the K nearest neighbors\n",
        "    k_neighbors = sorted(distances, key=distances.get)[:]\n",
        "    \n",
        "    # Initializing labels counters\n",
        "    label_1, label_2 = 0, 0\n",
        "    for index in k_neighbors:\n",
        "        if train[index][-1] == 1:\n",
        "            label_1 += 1\n",
        "        else:\n",
        "            label_2 += 1\n",
        "    if label_1 > label_2:\n",
        "        return 1\n",
        "    else:\n",
        "        return 2    "
      ],
      "metadata": {
        "id": "df5AlEOvNgY-"
      },
      "execution_count": 10,
      "outputs": []
    },
    {
      "cell_type": "code",
      "source": [
        "# Testing kNN function\n",
        "print(\"New sample \\n{}\".format(test[12]))\n",
        "print(\"Label: %d\" %(test[12][3]))\n",
        "print('---------------------------')\n",
        "print(\"kNN return \")\n",
        "print('Label: {}'.format(knn(train, test[12], K=13)))"
      ],
      "metadata": {
        "colab": {
          "base_uri": "https://localhost:8080/"
        },
        "id": "zsq2JlAXMMln",
        "outputId": "64fb2c9f-bf22-43b2-f561-2255771f2b75"
      },
      "execution_count": 11,
      "outputs": [
        {
          "output_type": "stream",
          "name": "stdout",
          "text": [
            "New sample \n",
            "[56, 67, 0, 1]\n",
            "Label: 1\n",
            "---------------------------\n",
            "kNN return \n",
            "Label: 1\n"
          ]
        }
      ]
    },
    {
      "cell_type": "code",
      "source": [
        "# Initializing hit counter\n",
        "hit_counter = 0\n",
        "# Performing kNN on all test samples\n",
        "for sample in test:\n",
        "    label = knn(train, sample, K=13)\n",
        "    # Comparing method result with actual sample result\n",
        "    if sample[-1] == label:\n",
        "        hit_counter += 1\n",
        "        \n",
        "print('Number of train samples: %d' % len(train))\n",
        "print('Number of test samples: %d' % len(test))\n",
        "print('Total of hits: %d' % hit_counter)\n",
        "print('Number of hits (Percentage): %.2f%%' % (100 * hit_counter / len(test)))"
      ],
      "metadata": {
        "colab": {
          "base_uri": "https://localhost:8080/"
        },
        "id": "c3vP3-MzNsA2",
        "outputId": "bbfccc32-3fb2-4c1e-bb3b-c80695850ef8"
      },
      "execution_count": 12,
      "outputs": [
        {
          "output_type": "stream",
          "name": "stdout",
          "text": [
            "Number of train samples: 183\n",
            "Number of test samples: 123\n",
            "Total of hits: 93\n",
            "Number of hits (Percentage): 75.61%\n"
          ]
        }
      ]
    }
  ]
}