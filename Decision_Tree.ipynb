{
  "nbformat": 4,
  "nbformat_minor": 0,
  "metadata": {
    "colab": {
      "name": "Decision_Tree.ipynb",
      "provenance": [],
      "collapsed_sections": [],
      "include_colab_link": true
    },
    "kernelspec": {
      "name": "python3",
      "display_name": "Python 3"
    },
    "language_info": {
      "name": "python"
    }
  },
  "cells": [
    {
      "cell_type": "markdown",
      "metadata": {
        "id": "view-in-github",
        "colab_type": "text"
      },
      "source": [
        "<a href=\"https://colab.research.google.com/github/Eswar-11/Machine_Learning/blob/main/Decision_Tree.ipynb\" target=\"_parent\"><img src=\"https://colab.research.google.com/assets/colab-badge.svg\" alt=\"Open In Colab\"/></a>"
      ]
    },
    {
      "cell_type": "markdown",
      "source": [
        "## **Decision Tree ID3 Algorithm on PlayTennis Dataset**"
      ],
      "metadata": {
        "id": "HKs3-vi9c0WZ"
      }
    },
    {
      "cell_type": "code",
      "source": [
        "import numpy as np\n",
        "import pandas as pd\n",
        "eps = np.finfo(float).eps\n",
        "from numpy import log2 as log"
      ],
      "metadata": {
        "id": "uX7o0VbZc1Uu"
      },
      "execution_count": 1,
      "outputs": []
    },
    {
      "cell_type": "code",
      "source": [
        "df = pd.read_csv('/PlayTennis.csv')\n",
        "df"
      ],
      "metadata": {
        "colab": {
          "base_uri": "https://localhost:8080/",
          "height": 488
        },
        "id": "yGfwC6yyc1Yi",
        "outputId": "e86d90d2-994b-47a1-beed-9c0889ef1a26"
      },
      "execution_count": 2,
      "outputs": [
        {
          "output_type": "execute_result",
          "data": {
            "text/html": [
              "<div>\n",
              "<style scoped>\n",
              "    .dataframe tbody tr th:only-of-type {\n",
              "        vertical-align: middle;\n",
              "    }\n",
              "\n",
              "    .dataframe tbody tr th {\n",
              "        vertical-align: top;\n",
              "    }\n",
              "\n",
              "    .dataframe thead th {\n",
              "        text-align: right;\n",
              "    }\n",
              "</style>\n",
              "<table border=\"1\" class=\"dataframe\">\n",
              "  <thead>\n",
              "    <tr style=\"text-align: right;\">\n",
              "      <th></th>\n",
              "      <th>Outlook</th>\n",
              "      <th>Temperature</th>\n",
              "      <th>Humidity</th>\n",
              "      <th>Wind</th>\n",
              "      <th>Play</th>\n",
              "    </tr>\n",
              "  </thead>\n",
              "  <tbody>\n",
              "    <tr>\n",
              "      <th>0</th>\n",
              "      <td>Sunny</td>\n",
              "      <td>Hot</td>\n",
              "      <td>High</td>\n",
              "      <td>Weak</td>\n",
              "      <td>No</td>\n",
              "    </tr>\n",
              "    <tr>\n",
              "      <th>1</th>\n",
              "      <td>Sunny</td>\n",
              "      <td>Hot</td>\n",
              "      <td>High</td>\n",
              "      <td>Strong</td>\n",
              "      <td>No</td>\n",
              "    </tr>\n",
              "    <tr>\n",
              "      <th>2</th>\n",
              "      <td>Overcast</td>\n",
              "      <td>Hot</td>\n",
              "      <td>High</td>\n",
              "      <td>Weak</td>\n",
              "      <td>Yes</td>\n",
              "    </tr>\n",
              "    <tr>\n",
              "      <th>3</th>\n",
              "      <td>Rain</td>\n",
              "      <td>Mild</td>\n",
              "      <td>High</td>\n",
              "      <td>Weak</td>\n",
              "      <td>Yes</td>\n",
              "    </tr>\n",
              "    <tr>\n",
              "      <th>4</th>\n",
              "      <td>Rain</td>\n",
              "      <td>Cool</td>\n",
              "      <td>Normal</td>\n",
              "      <td>Weak</td>\n",
              "      <td>Yes</td>\n",
              "    </tr>\n",
              "    <tr>\n",
              "      <th>5</th>\n",
              "      <td>Rain</td>\n",
              "      <td>Cool</td>\n",
              "      <td>Normal</td>\n",
              "      <td>Strong</td>\n",
              "      <td>No</td>\n",
              "    </tr>\n",
              "    <tr>\n",
              "      <th>6</th>\n",
              "      <td>Overcast</td>\n",
              "      <td>Cool</td>\n",
              "      <td>Normal</td>\n",
              "      <td>Strong</td>\n",
              "      <td>Yes</td>\n",
              "    </tr>\n",
              "    <tr>\n",
              "      <th>7</th>\n",
              "      <td>Sunny</td>\n",
              "      <td>Mild</td>\n",
              "      <td>High</td>\n",
              "      <td>Weak</td>\n",
              "      <td>No</td>\n",
              "    </tr>\n",
              "    <tr>\n",
              "      <th>8</th>\n",
              "      <td>Sunny</td>\n",
              "      <td>Cool</td>\n",
              "      <td>Normal</td>\n",
              "      <td>Weak</td>\n",
              "      <td>Yes</td>\n",
              "    </tr>\n",
              "    <tr>\n",
              "      <th>9</th>\n",
              "      <td>Rain</td>\n",
              "      <td>Mild</td>\n",
              "      <td>Normal</td>\n",
              "      <td>Weak</td>\n",
              "      <td>Yes</td>\n",
              "    </tr>\n",
              "    <tr>\n",
              "      <th>10</th>\n",
              "      <td>Sunny</td>\n",
              "      <td>Mild</td>\n",
              "      <td>Normal</td>\n",
              "      <td>Strong</td>\n",
              "      <td>Yes</td>\n",
              "    </tr>\n",
              "    <tr>\n",
              "      <th>11</th>\n",
              "      <td>Overcast</td>\n",
              "      <td>Mild</td>\n",
              "      <td>High</td>\n",
              "      <td>Strong</td>\n",
              "      <td>Yes</td>\n",
              "    </tr>\n",
              "    <tr>\n",
              "      <th>12</th>\n",
              "      <td>Overcast</td>\n",
              "      <td>Hot</td>\n",
              "      <td>Normal</td>\n",
              "      <td>Weak</td>\n",
              "      <td>Yes</td>\n",
              "    </tr>\n",
              "    <tr>\n",
              "      <th>13</th>\n",
              "      <td>Rain</td>\n",
              "      <td>Mild</td>\n",
              "      <td>High</td>\n",
              "      <td>Strong</td>\n",
              "      <td>No</td>\n",
              "    </tr>\n",
              "  </tbody>\n",
              "</table>\n",
              "</div>"
            ],
            "text/plain": [
              "     Outlook Temperature Humidity    Wind Play\n",
              "0      Sunny         Hot     High    Weak   No\n",
              "1      Sunny         Hot     High  Strong   No\n",
              "2   Overcast         Hot     High    Weak  Yes\n",
              "3       Rain        Mild     High    Weak  Yes\n",
              "4       Rain        Cool   Normal    Weak  Yes\n",
              "5       Rain        Cool   Normal  Strong   No\n",
              "6   Overcast        Cool   Normal  Strong  Yes\n",
              "7      Sunny        Mild     High    Weak   No\n",
              "8      Sunny        Cool   Normal    Weak  Yes\n",
              "9       Rain        Mild   Normal    Weak  Yes\n",
              "10     Sunny        Mild   Normal  Strong  Yes\n",
              "11  Overcast        Mild     High  Strong  Yes\n",
              "12  Overcast         Hot   Normal    Weak  Yes\n",
              "13      Rain        Mild     High  Strong   No"
            ]
          },
          "metadata": {},
          "execution_count": 2
        }
      ]
    },
    {
      "cell_type": "markdown",
      "source": [
        "### Calculate entropy of whole dataset"
      ],
      "metadata": {
        "id": "igTNBoB5eswN"
      }
    },
    {
      "cell_type": "code",
      "source": [
        "##1. calculate entropy o the whole dataset\n",
        "\n",
        "entropy_node = 0  #Initialize Entropy\n",
        "values = df.Play.unique()  #Unique objects - 'Yes', 'No'\n",
        "for value in values:\n",
        "    fraction = df.Play.value_counts()[value]/len(df.Play)  \n",
        "    entropy_node += -fraction*np.log2(fraction)\n",
        "\n",
        "print(f'Values: {values}')\n",
        "print(f'entropy_node: {entropy_node}')      "
      ],
      "metadata": {
        "colab": {
          "base_uri": "https://localhost:8080/"
        },
        "id": "__j0CTTBc1ck",
        "outputId": "fa717aaf-5247-46a2-b2a5-d1e69c435c94"
      },
      "execution_count": 3,
      "outputs": [
        {
          "output_type": "stream",
          "name": "stdout",
          "text": [
            "Values: ['No' 'Yes']\n",
            "entropy_node: 0.9402859586706309\n"
          ]
        }
      ]
    },
    {
      "cell_type": "markdown",
      "source": [
        "## calculate entropy of each attribute"
      ],
      "metadata": {
        "id": "ybJ6S6kKhC4F"
      }
    },
    {
      "cell_type": "markdown",
      "source": [
        "![image.png](data:image/png;base64,iVBORw0KGgoAAAANSUhEUgAAAXIAAACHCAYAAAALDNIXAAAAAXNSR0IArs4c6QAAAARnQU1BAACxjwv8YQUAAAAJcEhZcwAAEnQAABJ0Ad5mH3gAAC1nSURBVHhe7d0HfBzlnf/xz+5qV9qiLq16l225d7kXsI0NBmMDpie0kHCXy5XkkgtJ/oQ7cmnchYQjIfQaGzBgO7ZxL7jJltWLJVm9967d1db5z64FGDC2wRZi5ef9yryId0bSavXMd37zzDPPKCQZgiAIgtdSDv1XEARB8FIiyAVBELycCHJBEAQvJ4JcEATBy4kgFwRB8HIiyAVBELycCHJBEAQvJ4JcEATBy4kgFwRB8HIiyAVBELycCHJBEAQvJ4JcEATBy4kgFwRB8HIiyAVBELycCHJBEAQvJ4JcEATBy4kgFwRB8HIiyAVBELycCHJBEAQvJ4JcEATBy4kgFwRB8HLiKfrCiHKYexkwmzENOnA6XLiUGvxDQjDofPH1lBnu5unE3NPDgMmC1SnJryhRqlRoA4LRa33x81G4NxSEq5YIcmFE1e78A+9u38X7x2tpqO/DpJ/Kvb/7L+69Pp1Zge4tHPJSz87f/o63tx3leJMFh1KLISSeFf/4c9avnMPcaB/3hoJw1VI9Lhv6/4LwtfMNiiQuJpAgdT/5+dV0tzfQ7z+FlNh4psbp5C3c1bYvQVFjiNFa0WtU9M76Rx595GaWp48nOVQnKnLhqif6yIURpQ1PIi7CyNikSKKWr2GW0Up3bibFJRU0Ot1buENaR3jKWOJiUxgrLwtvXMnihelMiA0myE+EuCCIIBdGmIv+li7MFg3Jq+/kxjnR+HflUVxaQn6rbWgbtx46BsDsMpI+MRitWumJeEEQRJALI26QVjmwu7sCmD1zGjetmUVyYCs1RafJyO709JB7OBpotSvoUMUzLhTkHBcEYYjYHYQR1kiTxUmbLYKJ8Vpirl3HtHg5qStLyDueS6u8haeHpa2WfjQMGtOIk/+pcr8mCIKHCHJhZHXX0uHQ0GMYS6qPL5rwBcyfnkCqpprqguNsLweLXJYP1NbgULnQpsTiK3+Z6FYRhE+IIBdGlK2uikHJhRSbSKBChVITwZT505iQ7IOltpC9hyoxWQdprOpDISmITQoUjVYQPkPsE8IIctFZ0YRLchKcHD7UXaIiYto8Jk1OImKwmvx9+6nobaCoXikHuY7kKLVnK0EQPiGCXBghLnkxUV1jQ3JpSIzXn33ZzTiT8ZMmMTuij85TWzhwJpOTnQE41eHEeW4SEgThXCLIhRHivoRZSWlXIFZVGAnGs6+eFcLY8eOZPycKZdspPnjpA/L6gsE/joihLQRB+IQIcmFkOG3QWEiDMgyVNoqET7VEBdqkySTOms8cQy+V+45h0vuhiQpDM7SFIAifEEEujABJznELLbnZdPrqUASF4j+05iNKQyIxY2Zx3Twj9gE/oqKDMUbI2w6tFwThEyLIha+VZGqhrewYe7dv5e0tJykpyaHgdDGZxU30u9ef3UxumQGERo9h4ap5xEVPY1JiKNGhYnIsQTgfEeTC18rVU0VN5hZee+El3so201Z4mOz9e9h8pIJu9/qzm3loQ6NIWbSO6xYvY3ZSKEb3HFqCIHyOmMZW+Hq5nDiddmx2Jy656UmSAoVShcpHjUaj+kxlIa93ObBaJXw0PqhUYn4VQTgfEeSCIAheTnStCIIgeDkR5IIgCF5OdK0Il891tr/bJbekL9uc3Ntf+SaoQKlUovLxQSk61YWrgAhy4fKZehgYtNJvc2GznfswiIuz2+04nZ6Jaq8gH3x1/oQYjRg08mmnCHNhlBNBLly2srd+wcbtH7Kz3IbLde4AwotzN78r3wR9CB4zl9n3/ZyfXhNGoJ/oQRRGNxHkwmVrO/Qkzz37Os9uKaL544JchX/yHKbNW8rNs41ytF4ah+PjZwJ5Av6Tfztx2AYx9/fR29tNX1cv7V3tdMtLR1s7Tc29WOWtzjZmJX6x00lb9zNe+c/rSQvW4ud5XRBGJxHkwuXryuXAWy/wwgtvsyWvayhQVQSOW8HS9Q/z6D/fxPRQHzQX6eP4dHDjqe4/6XZxYB+0YOrvpae7k56OHlo7WuiQl7amRmoqamhoqKS8soHmLhNmdSTB42/kVy//mpvHhRIjHtIsjGKqx2VD/18QvhptFGH+TnSORvJz6uh2uC98urD2dNBvtjIQN50Z8UHoNcoL9lcrFApUKtXHi4+PD2q1emjxxU9rwD8olPDIOOKSxzB+0nRmpi9i8ZKlrLp2FuOjfFE57FgtFixy5W6VQ9+asooZCUFEB/iIm4mEUUsEuXBF+IZGEWDwJ7j2GIfrTAzKYY4kh3hvD3UVfaQuXUBMoBbDcEyXolSj0oUTlTafpauWMC1ajbKlnPzqThrNiSxITyApJkDMnCiMWiLIhStD4YOfQU9YXBCtOTm09A4y4A5z5yAOUzt13TGkjoskxqgfnkCVq3mFUq741XqColNJHZvAeG0TRSdqCJg6k+iEWKJER7kwSokgF64QJSqNFp2760PRQHVVK62dJqzuMeZ2M92tXSgiUoiKiiAhaBhrY4UKjS6AoPAIIo0hKGozqFaNkf8dxYRonbgDThiVrs4gd1owdzVRU5RPfu4pMrPzKSwpp6quRQ6fQVz6APwUfbRVVlNT044rIhydnAAiBC5CrspVGn9iYwyYm2pobm6juc/meSano7+JDqs/+rBoEhKiCBnWi48KVL56+WfFEK2po6xRj39IuFylh32jRq9ITiuOhhMcPpbFydxCSkqKKDldSnm/fCAy+GHwO/sUU0G4mKsuyF2DvXQ1llJ88kP2vL+N3Qd3sevAcU5kF1FcVkVVVQvdmgA0/YVk7DzMkdw2jEtnEymnuEpcLbsohVKNMmgssboO+tsaKKtsp8/hHlvuoL+hEZM6CL+ENKbKYe8jf6bD95EqUPqoCUmMwj0/bpAxkMAEIwFDa78R7CYs+a/yzKtbeVtui/t2bWHrjgNk2GYyZ3wkieHaoQ0F4cKuuiA3l37A2395mt8/t49szQxufOgRHvrO/dxz00JmRdkwFW3lxRd2c2znOxyoUWFLuob7rxuDXk4cUZFfOn18IgZLF4MVBWS2DJ590TVAZ+sAFquWydfMIkI9zAdHhVzRaiJImpRKsjvE3f3oQ6u+CRQqNZqoyUycPpkUTS99Z/I52ehEn3YzN82JJ8kogly4NFdNkEsOM/aaLTz7+5f4+5kgold9lyd+vI4FE5KICw8mOCiUsNgkkiaMJ7xxH6fO1NMaOJNpi65n/axw3Ce5oiC/dAqFH4EhOnz97NTm5NBqAad7IIutF5N5kMbBFGZPM2LwVXk+2+Ejh7c7wL9hIe4hvydUfuj8wwm0NdDbUMDBMisBk9dy01wR5MKlu0qKTCs2cy1HN77B7jwzmrGzWX3bUmaOjSMy2IDez1cOHB2G4GjiUqdx/fKxRAcYiTDGkjg2FrlwFCH+panRRU5k6tLreejudBICNPjKH6LkMNFdm8/xLS/z+rEG6ru/3Nwso4v8gSjlqtzPQIC/ngC9GOsufDVXR5Bbu7E0ZLDj7ycps0YTP2kK8yaFe4bBfXrHUaJS64gfP47I8DGMiY9hbOo3qlfVu6iDCU+ezco77mbNzGiiAtSez9thaqO9eBfvbNzBsbI22oZ6XgRB+GquiiCXBtqwlBziWKVcDSoC0er0nj7v81LIH4k2FEPkBMYkRTMuauh14StRGWIInXwHD961lPQx4QRqPFGOw9JC2fsvsnV/Nln1/VjFRBHfAO75bOSzV7sd9y0Agve4KoLcYbbQV19Pi9PBQFsFba1NNFqGVn6OO2jUGKfPZcK4caS6+1WEy6BErQ9j/IM/4+7l05kTNTSGXLKDqYDtL7/Jtj2Z1Mj/FEaSe2SRia7GWppaO+kSfw+vclVMmuVszaJu1+Os/OF+qvs0hIxLZ/ayVdx8w2LmpqWSHOGP3m/o3nFJbtCDnbT0+qDW6ggO9L1K+p+Gk7uJ2egpeI83n32R5/52kKL+s2sUvuGkLr2f2x/6Ho+uT8H9oPwvOlkadpZK8vZsZfuWAxxq0hCWdiN3fHslc+PsDJQeZdv2PWSXNNPhE0H0tGu5dsUybpmfcEXec8+JF9n80pP808Yuou96hef/dQHXTAweWvsRBz01RZzOPMy+49kUVHZg8wkkKCKJcVPTWbhyOXPjdfj6nO/d9NNWksGpA/vYcaSEug4zDt8gQhOnMGFCApPDmzmw+RRNXc20uhKJnb2Gf/r5XcyUfznPSdTlcvRibstlx19eYFthNz2GKUxfegN33j6XhN5s9u/cyYcniihvt2MNGcvMlbdz+7UTGB/lL6ZWuARXxagVhdKGXeql8MAJmnv6aO/uor2hmurSArIzDnM8M5e8khZaTaAND8Nf50+AvxadHO4jFiqjivtT9MEvIAS9agBHTy2FZV1ytMsR7xzE3GfG4tSgGzeZMcEaNCMyYN9B3YF3OFTQRg1hTA+t5cO9mdR1tVBWcJrKijYcMROZNm0aKf6dtJUVklXUSmfIeCZFaL8gPC/dYEMOpbnH+aDIgv/nRq3IxYWjg/ID77FVPsjsKzHhP24aU6ZNYerEVGINJvpr8jh0MI8GZTjhIQaCdGevR5w9iA5QfeBvbN6wla1Z3VhT5rJg3gzGxwdBRzmn5X3gWH4byskrSdM30tfaR6cympmr5JCVU/QyfzWZi/76Moq3bWBz11iSwvowNZRwKquIms4Wig6eokUZQsSYSUxJCSPMVsLhXVnUKyMJCAsnUW4TwoVdHUHufuSXVj6y97fQ1dtPd3cPXe3NNFafobQon4LiMkrLa6ht6qLL6kNoTDT+vu5pV4e+wSVx4JAr+cpDOzh87IR8cMgmOyeHnAsueeTluZdccnM/u8jv63Ql7eoYAvVyyKlHItyuMHUAgfIZjk5lor20jNpeO3aXC4e5lwGTmU51JJPSEgjWqr/kZ3+ZJIecpFUc2LCTM1IiSdcs4KbIct59+wBFDX0MKIKJTpvNkhtuYMXS+UyNt9Cal8GhvXJ17Exk4dwEAuX3fDl/oi8OchdOay/tWVt477VN7KuUgzntWm5dt5pli9OZNWUcKRF+KLurOL3vA/ZX2NBExBMeHkKI+4EaTivO9hNsfeF5Nu6pozFoDrd8/yFuv24Bs9LiCbGUU5N7hL9nmwlf8T3WpkczPiWJmNQJTJ2cTPiVGOtv76ChOIsP3j6JddUjrJskH3jKs9lzsIAzHU58Q1OZtng51y5byqIZcSTq6tj78vtkdwYSEBvPxHFGdKOg+Q+nq2McuUKDj28YKRMT8JOc8r6hkF/SYTDo0GlUSNY+utuqqSgrJaewDe2kBaRGGAjRKr9ERW7DNtBA1qtP887OQ+w9dopT2XKYX3DJkwM7x7N8PuTd0wbUY05YzPhoA2H60dHB42MIJzDAn0hHObmlLfRaHPLZkoNBkxxWtW3oJ8whMdKfEJ188B36mmHntCA1f8AbO034pkxnxcJgVKX7eHN3BR0+Y5m39g7ufWAdixPkYkCpQBPspKm4kIKDOZQ0K5m0dilxgVr8L+MNf2GQu8xYu0o58NTj/HV3O86Za7nt4Xu5OVWPn/xelEo12uAYIoL8iOw6wmtvHaHSdwwR8fFMiNGhsg9gyX6Op18/ytHOBNKuWcO/3T+HKLUPOn0IocpWzK0FbDlRR6trHCvWXM8NNy5j4dRkjFfohi2pt4jSglzeOhHCHd9fSbJZbvvHczh8xoFPzAIe/sW/sHp2ColBvvj4SSh0Vgo2baPgjAW/5BTGpE8kTlyruqDRkQ6XQKHylSuV+dz6oz/x/Ntb2L7pJZ75zY/4tztXsGRiBEaD/FHYOjE1Hubl149RXtvFl3uSpB9+QRNZ/fvNvLn/JCezssi66HKCkyczyMg433KEQ3ve4n9vjSctfDjmfh0pGgKTZjDvuz/jgRkhJAQMNUFbN6a6o/z1ybfJKGuk5+yrXwvJIR+ES7PoDEnEPzqF6P5earMK6LDZCUpfxbz0dOYbz/0byBW8U15MAzg6K6lsdmAariGUg62Yanfy8q5KKszRxCXGMTnhs+1BhSHUyNj500nUdFO2awcn5SKhUV7jcjjoqqykc8CEWaVBpdail1//aMfXyIWMVuuDy2mnp76UVnMfQ5cvrhhnWz39XZ10jV/CJL0v1jMVNNU34YxIYMz132JNahBR7smMPNwXXW2e/9HXSEdrJ41dnhXCBVw1QX4ulS6IsKSpzL3uLu7599/wvy89z+//9Q7WpvjJO7WDgYYq2szy6d/Q9l7FfIai3U/xvSXzWDJ/HvPmffXl2u8+y0v7a/jCAT5flVKPLnQyd/z7d1k6JYmPBrK45OrRXPAKL//tEHsy29xx+bVQuOfWmf8oP/vBOu5eGoSpt4mCgnbs9gASU5MwRocObTmkq5Wenh7aXPLuo9agUciV8dCqK83W3Ul7VgYVJisDvgHodDr8z1edajQoQoLR+yrxaS6lobKe0jb5o1apCImLI1Cnxcdm8zx0wyRv7o5LN5vNiUU+K1IqfdBHJBPuZ8B/aN2Vokpcxrxb/4UXfzSDCP9uqiqaaG524h8YSdqUZNTy2cHHBi04WhqoH3Rglt+Tj/z+RTF+caM7yM3l5B0/zo7dRcht+uPGq5AbiNp9N12wkYi4ZFImLuCapXO4Rj6ddTcpl1yKKyQv/XDUoRhT57HmwYd58DsP8/DDX315YM1sZiQHDcOOpELpG0r4zNu5de1iFk+O9Iz8QJJwylWuySVhG8Zw/BylCkVAPAkxYRj1vfR0VJFdLlfpUhJjk8OJjfAd2vAsa0MNra2tNDk1nt8jNETpzlEPm3wQaDj1Lm+8eYS8+m4Gzr78ldnMFjprG+m1O3HI1bPSR3n+7g6F/Dv4aM92t9g66Ojqo7FDflmuwP2mrGPFrDSm6ttpOpPDzrw2BuzygaGjjLycfI4X9qA2TmbtukWMiwk9Z4ZI90VWOXiPbeH95/+HX//nL3n0J/+P//zDm2zNrKa+99LGKCr8ggkIj2VcrB8aWyllNe00dAYQHJzI9An+cpB/8pd2DvQxUH6aKvngYlIGonPf8XrOPXnOjhLy9u1gy5ZD5HWD/aOd+io3qoPc3pxD1okT7D5V/6kq5HOU/oQajcTGBXseMWaIiCbQz0sf2OsO8pS5rL7vQe578EEevIzlWzfOYnpS0CU/OPlLkQ+mBKSRvmoN1y2dzmSjfNovV8YR02/gmvQ0JsToR6Rxuvoa6G4so7BLhTNkImNigon6qPvHw0lHRSVNjS30+8kVckIaKcE+GDxHOyfmjhpK973L5r3FVLQPcNk9Lu6Dm7uy8HAhyct527F7FPHHzzd14XC6sLlPaVRqVNFTSI2Okz9TNVpHDcff38iGV1/i1df+xvtHG2jWzeSGO7/Ft1ZNIClcNzT3jfsiaz9NJ/aRfaaBugEnSoUDl6mBkr1vsWnDe3xwoowa9451qZw2nE25lLd00YKR4MhkpkTJFffHk+24sPR201BQTNugHZcxkYhII3JT+JilPpusw/vZdeQ0DfKporhx6axRHOQSfeWFVFZWUtXvuMhFS3kHHLDIp8t2VHL1MGZGGhHB/ny6DrsYeQdzmOisKuR0XhZZp05x6nKWrCyy8wo50zaIyT56W6shcTpj08YxKT6EgLiZLHvg+3xr+TRmRntq9K+dtaWRtqoz1CjUqFMnEx8SSNjHpyRyhEo9VJS4H/Tch8YYQ8KiBaTpfTF4GpgTu93BQL8Cf2MIOj/NVzoInhvUPn6+BEWGYVDJlbjV6vn+570L1mlHsvRikQPcqQrAYNAT7Klk5e/m7Ka9S0No6iTmLUoirOZDdr7zFlt251KrSGXaun/gxz+6j6XJOoI/avSuQay9VRx97VWOdoYTtfw7/OhnP+WXjz7ArSltlO94nY3vHeBQldkzwPFSuOx2+ovzqO/uoS8kipCEFFK15wxvlCz0draQn1WFxa4mzD3UMzWJuHNmVbNZzLg0WrRhRkLlrx2RkarfRO4bgkYfl7xYpKyn7pbuW7lSWvaDV6RC+SXb2ZWf5+qUcl7/mfQv6YlS0Jh7pN9mdkg1pqF1l8wkmToypdfvGSvNitBIaqVSUl7O4qORdFHjpFV/LZMyG7/wnXs5lzRY8o70l++vlGZMWCQt+ulBqbxn8Iv/Tl+D+p1PSU/eZJRU+jAp9jvbpH1FXUNrZK5BuVntl566e440NTBSSl3+z9KviySp9wq84e6MF6SXvzNW0so/N+7cn9t7Wmrd80/SYqNBMugXSXc8sUnKsJ5d9Skd+VLLpnul2aF6SRe8TLr3t5ulbPd2Trkh974tPXbL96T/eGKj9OH5vvZ8Buukjrw/SnfHG6WJS/5N+uWmXKnV/bq1R5KyH5MeWZgkJUy9R7r7qSxJ/lQ8e9zFWHtapKz/N1tamKSVguZ+R3ro+dKhNUPsZ6Scbb+U1oerJZ1uonTb/30o7W0eWveluCSXa2gZemW0G6UVufucsorSmhZqThdSnZfB2x+2YrZ+dhyKu5aw0Xr8TXbvOcJR+wQWfv+fWZfi/xWe7+iHX+BEVv/3Fv62L/MShh5eZMnKJGPvZp65NYGJo2rUyhDnILTu5fXnX2PLaR0x13+PX/9gFjGGr1bFXhmtNDXVU1HRg1LpS3CwAbXmk3fjHDRRv+NNjp5ppX/iMhbfdjv3poB+ON+wPgb9hFu5d1E0Cbpa+QyzmpySz15+dtLX0UHx8UIabWpiV60kPX064z86k3CPALHVUF1dTWFJ39nXLkap8ZydRoQokdwXHs3y2Yb7dZX8y0akEGIwoDH309/V5bkOcPGq3CyfTdRQUNBMT68TrVaLf4B7nPwnek5nU3xoH8dsESTd/S+snz+GWZ+5znwxkt3CQMkONj7zW3733Lu8l9Pq+fVH7zntWaNzHLlL/tO1n2TrxiOc6bDi0ivpOn2GlgH5tNRhw+Fwj1vuo7fxNLm7N7DhrQOc6pdPk5fdxnfXL2Sy0Q/fL33OpvA8HUcbFE6oMZLIyMtfIozhnvHU6tF2/ujsx9KRx9a//h/vnFJimLaK2+5eydJxoWiVIzhvuLmYk3v28sGeAmqtcoApw0ibnExMVCC+pjpqTm7i+We3UayaQ/qN67lnTTqTwvw8p/d9Zw6TeXgX2/dncaKoD7+4aAwXu6nM0689iLm/l+bCDLKPn2B/hQXf2HQWTgiXQ1SHQqPFz9ef8DBf7J21NDZ209AtYQgLwl/vh4+zl+6qDDJ2beH1rcV0pdzGHd9ey+o58vv2HGHkn6GyUHFwH3mFp+WDQDnVRTkcP+Ye4nqSU6eyyc0vpqC8ni6L3NYM8s/zU+Oj8EHpG0R40iRmLFrEvOnJxIfq0Lj3rc6T7Nh6ghJrHHGzF3PLglhPN+QF/26OTkzNGWx4bge5LWb6CSQoNJLx08cQ6uuir3w/e997ny1HO7FOupNHvreWaycYCZfbP5Yu+mtOsm3zDvYdzKKiR0IRJO8fn7u3wobNVM+pV37P61sOsu9ULe0WNZEzphMtv8HLv0P1m2tUBrlkH8ReupvdJRoM7jvy5iVjNDdQX9dCS2MlpXKVnpeTS25hASXFlTQrkkiev4rVq5ewbGyQ56YPYZi4zPQ1FZG7YwN/3VSKYsKNrFp3PdfPTSBY3i9H8pO31x3g4O4P+SCnD1v4ROYkOuSaoIeGmgpKC3PJyS2m1BzPlOW3cvOqecwdE4KvS65T+8o4eaKMyrpKGmrLOLq3FOX0JSSEaLnQc6bdz+y0Vx9k+84D7NrzIaeKqqiRq1WlnL2KvgY65OraoY8mOdxAUGwcIVoVSpuJ7tYGGppqqD0jB3BeDjnZORRVddHpP53lt93DLUvTGBuhP3tm4/5AfZT05X9IbnYWh08VcLrE/XW55OflkZ+fT35hIfnFp6morKW+y4bLV/55oSH460KIGTeZCePiiHGHOC75uNND8+ENvHOwAVPcXBZefx3Lxvhf9OEgrv4Gugu38dcN2dQpE4mJCSUpcICWlmZqygrJPXWSggY7UvQ8Vt22nlsXJhIpn52pXAN0N8lnIYeyqLf1Unb8Q8o7FDjC05id8NnrKA7s5jaK332Ov2dWUFjRxqDKQMic1cwKU8rF2dBmo9DorMjlqttam09t+BLmXHcz914/hzmTw1C2NMinztWUlZVSWlFHnUlN6JhrWHXXnaxbMYuZsYbRPYxnxNnlSvwMRQe3seH5bRSGruGuh9azen4q0SM+nYaL7sx32b3/GIfbwzDOv59f3hVIjxyWuVn5nG4YYEA/jeX3PcD6ldOYEidX6fJXuU/lB8u28EFVLGGxYYzRNnDg3ZMoFt/JVLk9GS90zdZuxlq6hTe3HON4RTc2g5HE+FiiNP10NdXSoQgnIG6CHFh6OYwDiRgzkTFJ4YQrO6gpyiI/Vw7jkgaaLQGEjl/KTfd8mzuXpRIX5Dc0ZFTyHCxMTVVUF+Rypt1CjzqQ8GB//A16dDo/zw1BCveFze4mqvIOcTSnmV51ONFjUkkO/HSfkeQYwNx2mt3PvsLB7ljSVtzE+tXpJJ0zquT8JKyt5dTse4MXD9ZjTr6FtatnsiKln+x9R8kpLafebCQu/QbW3rWGdXNjCVQrPQcHyVJP9ZkKdp6A5d+ehvnUHspa1diiZrBqymcnFZP3Xve13c5K6vp95DNvK9rgMHzHr2F5sg/a0TDNxRcZ6isXhGHncjZJ+W8/Jv14+VQpasp3pD8d65Tq+4dWjqihi+N/uFu6Z6pBChy/RFrxTLHU1n/xq5i2gV6p+MXHpc0niqSMwxukTT+5UYpPuEd6Or9DqndfBRxRNmmw54x09BfXSosnpUsLH/id9OcjtVJr76Bkdrokp7yF3W6RelorpJL9b0hPPzxXmhbrL0UueEj63islZ7/Fx1ySo7NYqtn6A2l53ETppkc3Su8VdQ+tuxi71Jq7TXrjtjApRKeSku97Wvrr0Uu7immvOSrl7ntLenxHo9RT9qz0w1Xp0sp7H5eePDEwtMX5DbTWS7lvPCE9/bN/kB7Y0it1mt2/7eglClDha+C+1DRAxebn2fD2EQ4r07nzvx7l5okBRIzMKMPPcF8cr6SitpmmNhWBgXFM+ewdh1/AR6sned0jXDM5HN/mM/LpfCea9KXMi/AjdKTPMlw9DPblsGNPGe3GhcxfuoxbpkcRotfg675xSN5EpfLFEBJHUvp13PXYj7hlXipR5k5aaxtx3xn/8VBIcw3lWQf5y/OnCfrur3jkzqUsS7nUe0A76O2rpqC0D7s9jNTUZKKiwobWXZgqahrj5qzkOzPUdGccpqI/krCUsaSnffpC6WdpQwLkL9Yh2XyIiNTLv+fojjoR5MIwc99Y0kPb8Vd46/3jFLrGMn3t3dy/MIFofx/OualvxEhOO47GYkrqumkwhRAYksCUJD/Ul3B1TKFU4RcSQaCjjvqKWso6Api4aD4x7rAc6TN5hQJJpcJhG8RpcXreq1qvxkf1yV2z7odSq3zk96rzJyxQK/893BPFqeRt1J7uGc+v4OymMjOD4xk1dKXfxwNrFzAnVYdroJumhm7PYfBCo0JcvS2011WS06TArk4lJTaE6JCLHyTdFBo9WoMvwZp6jh8uoidoLAkp4xh3kRnKlOZKGjvttNhimZFw7k1Ho5MIcmFYOc3tdJXuYtMb73O8N5KY+Tdw2/XpTAmVd67hbn3u6WkHysg8eIKsgjo6z73TxsNMd1M+hzc8y3PPvcvB0820Dg7S21TMyU0v8tL2EqrazJ9UpRdgqcmlvKaTNr8U5s6JxVaRTU1LFx3WoQ1GgkInB3QK866dQ5KyisqTe9l+IIfSxl5MzqE7RJ1WBrsbqCk8zK5NO8jt0BE8fjKzpsejleNZgY3O4pMUljbTop/I8rU3ekYXhapbqCivIDu/lfNPLuf+7l2UHtnMe6+8zsa/n6C434Xd1UfV0S1s27KbD7JavuBrP8PahbUpkw/z+9EmjyM5Uj5ANZ7mZJ0Nm/OzhxD3vy005WVQ0+tCSp7NLLn414ggF4SvxmXtpbMik6Pvv8qrRyBw3i2suWkJSxK/jv4UOajsfXQVbeWdjXvYl1lDz+cS2UJPSyknt23knb3VmP3jGDslBqNPA6c2beCtA5XUdVouWG2e5aLtdD51XXJwxKUxN6GH0kMHKaxro31EH5mmw0+fxnUPPMiNs/1Q1Bxlu3vmz73uh6mc5GRmJqdOyJX24X3s2v4+G97LpSdiDovXrOTGxQmoXDYG24vJ3LmTnEb5iJQ0iVm6TpqqKzhTcJSM7NNklZu+YKSR+8PupeLkTnbvOsyJaiexU6cyfZIvnXn72b3jMAeKOj1BfrHP19XfgankBHntRuLGxxEu/30qso9xpN6O1X06cC73wdtUQ/bxano0RtKWzCJJLv4vrf73XlfFo96EESC5MFftZf/br/DYH3PR3f1HfvnIPBanBX0tc9hIkgVzRym7fvEwr6se4rqb1/D9lTFDaz9ht1ow9bRj9TxQbCiS3HOWyBUroVEE+anwvWC54959bBz9zV08n6PDMvkW/rRe4unnLay4fykzp8YSdHbDkWWqpuzkIfZ+sIcdxwupbemk1yIfeNR69GGxRKVOZ8Xytdxww3TGxQZhkCPWMdBMxaZ/57G3u2hxBZEc5++ZQdFmtWLrrqY7YiVTrnuIJ7+dNPRDPs/U08ag1Y7j3CiVvwc6f3wDggj6ePqDL2atzaDsvce5+ZUUvvubdaRYWjHXDRD98CMsNoD7+Rkfsw1A8Rs8sT2QyKkzWb9m3Dfj8x9mIsiFYWFvlau/117hzW2VNKd8m18+uobZicEE+6q+oIK7ksx0VciV5mtP8fibjSR9/3fcf9s1rE78fGpI8gHHJQe3uxPhYx/tEiofVJd0g5JEy/6neH1HPofq9EydlMKkVXewaEIEMQHqi46x/lrI1bXVbGKgf4B+swWbw4lLPlZJCiVKHzVqjR8GQyD+/n74qt3j1ZvortzGL779K3ac6aHDpUKjVroDA5e8SPKBLv76f+a27/2Yx5YFDv2Qz3M5He6RcZ//fN198UrVJc2VIvXX0JH/Pv/x68M4IiOJmrqEmemLuGFOLO57gj71LTzP3O2mrV+Fj5+WwADfb8bnP8xEkAtXlvsGmQG5En71L7x9oJm2oHms/+693DQzkiA5xId7p3L01VCSeYA92/7OB3tPkeVczg+f/BF3rZjC2AsPdLgstvZyqurbqO9yoZMrzbi0NIx6NXJB752cA1jlzzJjfyEtZvkg8LmUUBKYMInk8ZOZEjHMHRcOM7a+RvLz6zDJlb3WGE9kdBwJwaO9w+TSiSAXrhyXfMrdV0f+jhd54a18WoPnsODWO3lw9XjcgxSG54KME8dgP30tjdRVl1FSlEPGkcMcycijpMsX402/5amf3sCqaVGeJ+MIwmgkgly4MiQ71u5aak7t4E+/eoZMn6UsvP12vrV2Nqlf8ORcl/vc/qJcni4A+Qd4ukCcDgdOpw2b+2k3ViuDlj762hupL8ol89g+9meeoaq1H4vTF21oKst/vYFf3jiOme7JNgRhlBJBLlwBEpK1larjf2fj44/zP7khTL//21w3N43JAUrU6vP1TUueML4wp7yd3XNtTJJsDA6YGejppq+vheaWZupq66itqqWhoZ1282eGh6iMBMet5PGtf+SWcSHEihwXRjER5MIV0Ef1vg1sfvF5ntpeSLNFhV9wEAatr2fEh/umk/O5tKYnHyQ8m8kVuVyau6tyl8uBw+7AbneHvHs2SycO16e/l0/YZOKv/THvPH0LE4x6tJdwUU0QvJUIcuGy9eW/xaY3X+fFd4+R23D2BpovblQuOZhdnzyVbDgofQlxzxf+/af4yz3JRBh8xA0Twqgmgly4bP0luzhyMpfjZV2fv0Hjc9wV9kf93sNEqSEgfiKTrlvPDSm+6EbzrHeCIBNBLgiC4OXEGacgCIKXE0EuCILg5USQC4IgeDnRRy4MK4epk+76IvIaQkiekki00Z8re6e8ncH+NlqrKynoiGDq5Fiiw4eeVykIVwlRkQvDyIW5o5qyva/z8obj5Df2YBpac3lc8hGih6bKUopzT3HyyG62b3yBp/6WSUljn+dBB4JwNRFBLgwjG6buNiqzT9M8KP9Lcj995gpwT8xlLmTvq3/mf37+BP/5qz/z51e2k1nTSe/Fxz8KwqgjulaEYSThsJrlMO+kTwogKNiAzs/nCsyAKDdZ1yC9XX1YBtuoOrWTzf/9v7wS8ih/eeJW1syJ+1rmPBeEbwpRkQvDSIGPr57AyHjiooLwvyIh7ibX9UotgWERRMZGERkeiL/G3ZjFjT/C1UkEuTAszA0FFBzZxubNW3nvgxwqe21YhvNuTkG4iomuFeHKkpww2Er+gb1kF+WQW9lNdUs06554lFVjA4nRukeZ9NBZ30y3w3PZ8uI8T3YH34AwgkLCMRrOres7qDr6Hm/+5DGeMfyMZ564RXStCFcdEeTClWUfwFm5gT/ujSYq2o7RdIT/+ekeop7ax79eG8nU8E4aCzPY/eeNHDPJmX+xJHfPnKjR4J4IN2r6KuYuu5GbJ5z78GYR5IIggly4ohzmPqrf/xO5sTcRpSijY/87/ORVBQ+/9xy3TwolUevEYR3E3Nvv6Wq5pMYnh7m7Ilf56tDq9Og15/YIfjrIn5KDfK0c5OJpQMLVRPSRC1eUUqMlYsEtLJhsRNdVTWlFO9KUBcyJ1hDqebiDynMBNMAYSURkJJGXskREECEvYUH+nwnx8xOViXC1EUEuXFHuJ7IHJE0kRttNR5Uc5C0akhcsJNnfF91wtjZ3ejsd8n9FjAtXHxHkwrCwNeZRXtVGI/HMmT8OVUcdnb0D9DtsDPa3UleUT2F+PvlfYjld3URT3wWeSOFwXz0VQS5cfUQfuTAMJJo3/4gn/1ZCpm45P//D/QRteoaW6etJGR9GcN1xPnj2XTIHwPolhiSGTl/NvOU3c+fU81zs/PFjPKP5IU/95k5unp+AYWitIFwNRJALV5i7OdnJePIe/nrSh/4Jt/Cn+wy8/Jcm5t27nBlTYwlyDGLuM3lC/Ms0PqVGh59Oj0Fz7o0/HVTIQf6qHOTPyUH+RxHkwlVIBLkwDFzU/v2/eW1PBZk9kVw7O5aAsStYMjuBxDCtZyjh5XHPp1LJob/tJafoNGXVpeQdyuK0cgqLlkxi7JippE2dxepbZxMtb3ll7iYVhG8uEeTCsLDUnyLvdC2lLS4CQoykzZtHYpAv+isyv6y7n7yRnD2nOFPZQJvZzEDvIFbk7x9oQBsQS+yY8cxfOp4weUsR5MJoJ4JcEATBy4lRK4IgCF5OBLkgCIKXE0EuCILg5USQC4IgeDkR5IIgCF5OBLkgCIKXE0EuCILg5USQC4IgeDkR5IIgCF5OBLkgCIKXE0EuCILg5USQC4IgeDkR5IIgCF5OBLkgCIKXE0EuCILg5USQC4IgeDkR5IIgCF5OBLkgCIKXE0EuCILg5USQC4IgeDkR5IIgCF5OBLkgCIKXE0EuCILg5USQC4IgeDkR5IIgCF5OBLkgCIKXE0EuCILg1eD/A+ahfbNY+v/pAAAAAElFTkSuQmCC)"
      ],
      "metadata": {
        "id": "j1n6GWFRez3n"
      }
    },
    {
      "cell_type": "code",
      "source": [
        "def ent(df,attribute):\n",
        "    target_variables = df.Play.unique()  #This gives all 'Yes' and 'No'\n",
        "    variables = df[attribute].unique()    #This gives different features in that attribute (like 'Sweet')\n",
        "\n",
        "\n",
        "    entropy_attribute = 0\n",
        "    for variable in variables:\n",
        "        entropy_each_feature = 0\n",
        "        for target_variable in target_variables:\n",
        "            num = len(df[attribute][df[attribute]==variable][df.Play ==target_variable]) #numerator\n",
        "            den = len(df[attribute][df[attribute]==variable])  #denominator\n",
        "            fraction = num/(den+eps)  #pi\n",
        "            entropy_each_feature += -fraction*log(fraction+eps) #This calculates entropy for one feature like 'Sweet'\n",
        "        fraction2 = den/len(df)\n",
        "        entropy_attribute += -fraction2*entropy_each_feature   #Sums up all the entropy ETaste\n",
        "\n",
        "    return(abs(entropy_attribute))"
      ],
      "metadata": {
        "id": "gVcaos0wc1gQ"
      },
      "execution_count": 4,
      "outputs": []
    },
    {
      "cell_type": "code",
      "source": [
        "a_entropy = {k:ent(df,k) for k in df.keys()[:-1]}\n",
        "a_entropy"
      ],
      "metadata": {
        "colab": {
          "base_uri": "https://localhost:8080/"
        },
        "id": "LHNEMasMc1kH",
        "outputId": "70c8031f-cda1-46f3-a32e-0ae6cbeb2b8a"
      },
      "execution_count": 5,
      "outputs": [
        {
          "output_type": "execute_result",
          "data": {
            "text/plain": [
              "{'Humidity': 0.7884504573082889,\n",
              " 'Outlook': 0.6935361388961914,\n",
              " 'Temperature': 0.9110633930116756,\n",
              " 'Wind': 0.892158928262361}"
            ]
          },
          "metadata": {},
          "execution_count": 5
        }
      ]
    },
    {
      "cell_type": "markdown",
      "source": [
        "## Calculate Info gain of each attribute :\n",
        "### IG(attr) = entropy of dataset - entropy of attribute"
      ],
      "metadata": {
        "id": "nsQe01_De6AN"
      }
    },
    {
      "cell_type": "code",
      "source": [
        "def ig(e_dataset,e_attr):\n",
        "    return(e_dataset-e_attr)"
      ],
      "metadata": {
        "id": "4FO5L6ote6lj"
      },
      "execution_count": 6,
      "outputs": []
    },
    {
      "cell_type": "code",
      "source": [
        "#entropy_node = entropy of dataset\n",
        "#a_entropy[k] = entropy of k(th) attr\n",
        "IG = {k:ig(entropy_node,a_entropy[k]) for k in a_entropy}\n",
        "IG"
      ],
      "metadata": {
        "colab": {
          "base_uri": "https://localhost:8080/"
        },
        "id": "XtdRsVpfe7dC",
        "outputId": "c276a392-4181-4ea8-9ca1-e4dc709134f4"
      },
      "execution_count": 7,
      "outputs": [
        {
          "output_type": "execute_result",
          "data": {
            "text/plain": [
              "{'Humidity': 0.15183550136234203,\n",
              " 'Outlook': 0.24674981977443955,\n",
              " 'Temperature': 0.029222565658955313,\n",
              " 'Wind': 0.04812703040826993}"
            ]
          },
          "metadata": {},
          "execution_count": 7
        }
      ]
    },
    {
      "cell_type": "markdown",
      "source": [
        "## Decision tree"
      ],
      "metadata": {
        "id": "2cAD2Q6Qe9gH"
      }
    },
    {
      "cell_type": "code",
      "source": [
        "def find_entropy(df):\n",
        "    Class = df.keys()[-1]   #To make the code generic, changing target variable class name\n",
        "    entropy = 0\n",
        "    values = df[Class].unique()\n",
        "    for value in values:\n",
        "        fraction = df[Class].value_counts()[value]/len(df[Class])\n",
        "        entropy += -fraction*np.log2(fraction)\n",
        "    return entropy\n",
        "  \n",
        "  \n",
        "def find_entropy_attribute(df,attribute):\n",
        "  Class = df.keys()[-1]   #To make the code generic, changing target variable class name\n",
        "  target_variables = df[Class].unique()  #This gives all 'Yes' and 'No'\n",
        "  variables = df[attribute].unique()    #This gives different features in that attribute (like 'Hot','Cold' in Temperature)\n",
        "  entropy2 = 0\n",
        "  for variable in variables:\n",
        "      entropy = 0\n",
        "      for target_variable in target_variables:\n",
        "          num = len(df[attribute][df[attribute]==variable][df[Class] ==target_variable])\n",
        "          den = len(df[attribute][df[attribute]==variable])\n",
        "          fraction = num/(den+eps)\n",
        "          entropy += -fraction*log(fraction+eps)\n",
        "      fraction2 = den/len(df)\n",
        "      entropy2 += -fraction2*entropy\n",
        "  return abs(entropy2)\n",
        "\n",
        "\n",
        "def find_winner(df):\n",
        "    Entropy_att = []\n",
        "    IG = []\n",
        "    for key in df.keys()[:-1]:\n",
        "#         Entropy_att.append(find_entropy_attribute(df,key))\n",
        "        IG.append(find_entropy(df)-find_entropy_attribute(df,key))\n",
        "    return df.keys()[:-1][np.argmax(IG)]\n",
        "  \n",
        "  \n",
        "def get_subtable(df, node,value):\n",
        "  return df[df[node] == value].reset_index(drop=True)\n",
        "\n",
        "\n",
        "def buildTree(df,tree=None): \n",
        "    Class = df.keys()[-1]   #To make the code generic, changing target variable class name\n",
        "    \n",
        "    #Here we build our decision tree\n",
        "\n",
        "    #Get attribute with maximum information gain\n",
        "    node = find_winner(df)\n",
        "    \n",
        "    #Get distinct value of that attribute e.g Salary is node and Low,Med and High are values\n",
        "    attValue = np.unique(df[node])\n",
        "    \n",
        "    #Create an empty dictionary to create tree    \n",
        "    if tree is None:                    \n",
        "        tree={}\n",
        "        tree[node] = {}\n",
        "    \n",
        "   #We make loop to construct a tree by calling this function recursively. \n",
        "    #In this we check if the subset is pure and stops if it is pure. \n",
        "\n",
        "    for value in attValue:\n",
        "        \n",
        "        subtable = get_subtable(df,node,value)\n",
        "        clValue,counts = np.unique(subtable[Class],return_counts=True)                        \n",
        "        \n",
        "        if len(counts)==1:#Checking purity of subset\n",
        "            tree[node][value] = clValue[0]                                                    \n",
        "        else:        \n",
        "            tree[node][value] = buildTree(subtable) #Calling the function recursively \n",
        "                   \n",
        "    return tree\n",
        "  "
      ],
      "metadata": {
        "id": "GkjnsI4_e7ip"
      },
      "execution_count": 8,
      "outputs": []
    },
    {
      "cell_type": "code",
      "source": [
        "t  = buildTree(df)\n",
        "import pprint\n",
        "pprint.pprint(t)"
      ],
      "metadata": {
        "colab": {
          "base_uri": "https://localhost:8080/"
        },
        "id": "IBSUwhT5fCfK",
        "outputId": "71048377-3e7c-440e-9123-1fa9631a90c2"
      },
      "execution_count": 9,
      "outputs": [
        {
          "output_type": "stream",
          "name": "stdout",
          "text": [
            "{'Outlook': {'Overcast': 'Yes',\n",
            "             'Rain': {'Wind': {'Strong': 'No', 'Weak': 'Yes'}},\n",
            "             'Sunny': {'Humidity': {'High': 'No', 'Normal': 'Yes'}}}}\n"
          ]
        }
      ]
    }
  ]
}